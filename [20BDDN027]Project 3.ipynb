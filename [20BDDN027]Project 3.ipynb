{
 "cells": [
  {
   "cell_type": "code",
   "execution_count": null,
   "metadata": {},
   "outputs": [],
   "source": [
    "import numpy as np\n",
    "import pandas as pd\n",
    "import matplotlib.pyplot as plt\n",
    "from scipy import stats\n",
    "import seaborn as sns\n",
    "import statistics as st\n",
    "import missingno as ms\n",
    "df=pd.read_csv(\"whitewinequality.csv\")\n",
    "df"
   ]
  },
  {
   "cell_type": "markdown",
   "metadata": {},
   "source": [
    "## Q.1 Understand the data using the pandas library\n"
   ]
  },
  {
   "cell_type": "markdown",
   "metadata": {},
   "source": [
    "#### 1. Print the first five rows of the dataset\n"
   ]
  },
  {
   "cell_type": "code",
   "execution_count": null,
   "metadata": {},
   "outputs": [],
   "source": [
    "df.head(5)"
   ]
  },
  {
   "cell_type": "markdown",
   "metadata": {},
   "source": [
    "#### 2. Print the last five rows of the dataset\n"
   ]
  },
  {
   "cell_type": "code",
   "execution_count": null,
   "metadata": {},
   "outputs": [],
   "source": [
    "df.tail(5)"
   ]
  },
  {
   "cell_type": "markdown",
   "metadata": {},
   "source": [
    "#### 3. Find out the total number of rows and columns of the data set\n"
   ]
  },
  {
   "cell_type": "code",
   "execution_count": null,
   "metadata": {},
   "outputs": [],
   "source": [
    "rows = len(df.axes[0])\n",
    "cols = len(df.axes[1])\n",
    "  \n",
    "# displaying the number of rows and columns\n",
    "print(\"Rows: \" + str(rows))\n",
    "print(\"Columns: \" + str(cols))"
   ]
  },
  {
   "cell_type": "markdown",
   "metadata": {},
   "source": [
    "#### 4. Find out the columns, data types, and presence of null values or missing values in the data set"
   ]
  },
  {
   "cell_type": "code",
   "execution_count": null,
   "metadata": {},
   "outputs": [],
   "source": [
    "ef=pd.DataFrame(df)\n",
    "a=ef.isnull()\n",
    "a"
   ]
  },
  {
   "cell_type": "code",
   "execution_count": null,
   "metadata": {},
   "outputs": [],
   "source": []
  },
  {
   "cell_type": "markdown",
   "metadata": {},
   "source": [
    "## Q.2 Univariate Analysis\n"
   ]
  },
  {
   "cell_type": "markdown",
   "metadata": {},
   "source": [
    "#### 1. Find out missing values graphically\n"
   ]
  },
  {
   "cell_type": "code",
   "execution_count": null,
   "metadata": {},
   "outputs": [],
   "source": [
    "sns.heatmap(a)"
   ]
  },
  {
   "cell_type": "markdown",
   "metadata": {},
   "source": [
    "#### 3. Draw the histogram, kernel density estimate (kde) to check the distribution and skewness for each variable. Document your observation\n"
   ]
  },
  {
   "cell_type": "markdown",
   "metadata": {},
   "source": [
    "### Histogram"
   ]
  },
  {
   "cell_type": "code",
   "execution_count": null,
   "metadata": {},
   "outputs": [],
   "source": [
    "df.hist() "
   ]
  },
  {
   "cell_type": "code",
   "execution_count": null,
   "metadata": {},
   "outputs": [],
   "source": [
    "plt.hist(df['type'],bins=10)"
   ]
  },
  {
   "cell_type": "code",
   "execution_count": null,
   "metadata": {},
   "outputs": [],
   "source": [
    "plt.hist(df['fixed acidity'],bins=10)"
   ]
  },
  {
   "cell_type": "code",
   "execution_count": null,
   "metadata": {},
   "outputs": [],
   "source": [
    "plt.hist(df['volatile acidity'],bins=10)"
   ]
  },
  {
   "cell_type": "code",
   "execution_count": null,
   "metadata": {},
   "outputs": [],
   "source": [
    "plt.hist(df['citric acid'],bins=10)"
   ]
  },
  {
   "cell_type": "code",
   "execution_count": null,
   "metadata": {},
   "outputs": [],
   "source": [
    "plt.hist(df['residual sugar'],bins=10)"
   ]
  },
  {
   "cell_type": "code",
   "execution_count": null,
   "metadata": {},
   "outputs": [],
   "source": [
    "plt.hist(df['chlorides'],bins=10)"
   ]
  },
  {
   "cell_type": "code",
   "execution_count": null,
   "metadata": {},
   "outputs": [],
   "source": [
    "plt.hist(df['free sulfur dioxide'],bins=10)"
   ]
  },
  {
   "cell_type": "code",
   "execution_count": null,
   "metadata": {},
   "outputs": [],
   "source": [
    "plt.hist(df['total sulfur dioxide'],bins=10)"
   ]
  },
  {
   "cell_type": "code",
   "execution_count": null,
   "metadata": {},
   "outputs": [],
   "source": [
    "plt.hist(df['density'],bins=10)"
   ]
  },
  {
   "cell_type": "code",
   "execution_count": null,
   "metadata": {},
   "outputs": [],
   "source": [
    "plt.hist(df['total sulfur dioxide'],bins=10)"
   ]
  },
  {
   "cell_type": "code",
   "execution_count": null,
   "metadata": {},
   "outputs": [],
   "source": [
    "plt.hist(df['sulphates'],bins=10)"
   ]
  },
  {
   "cell_type": "code",
   "execution_count": null,
   "metadata": {},
   "outputs": [],
   "source": [
    "plt.hist(df['pH'],bins=10)"
   ]
  },
  {
   "cell_type": "code",
   "execution_count": null,
   "metadata": {},
   "outputs": [],
   "source": [
    "plt.hist(df['quality'],bins=10)"
   ]
  },
  {
   "cell_type": "markdown",
   "metadata": {},
   "source": [
    "### KDE"
   ]
  },
  {
   "cell_type": "code",
   "execution_count": null,
   "metadata": {},
   "outputs": [],
   "source": [
    "df['fixed acidity'].plot.kde()"
   ]
  },
  {
   "cell_type": "code",
   "execution_count": null,
   "metadata": {},
   "outputs": [],
   "source": [
    "df['volatile acidity'].plot.kde()"
   ]
  },
  {
   "cell_type": "code",
   "execution_count": null,
   "metadata": {},
   "outputs": [],
   "source": [
    "df['citric acid'].plot.kde()"
   ]
  },
  {
   "cell_type": "code",
   "execution_count": null,
   "metadata": {},
   "outputs": [],
   "source": [
    "df['residual sugar'].plot.kde()"
   ]
  },
  {
   "cell_type": "code",
   "execution_count": null,
   "metadata": {},
   "outputs": [],
   "source": [
    "df['chlorides'].plot.kde()"
   ]
  },
  {
   "cell_type": "code",
   "execution_count": null,
   "metadata": {},
   "outputs": [],
   "source": [
    "df['free sulfur dioxide'].plot.kde()"
   ]
  },
  {
   "cell_type": "code",
   "execution_count": null,
   "metadata": {},
   "outputs": [],
   "source": [
    "df['total sulfur dioxide'].plot.kde()"
   ]
  },
  {
   "cell_type": "code",
   "execution_count": null,
   "metadata": {},
   "outputs": [],
   "source": [
    "df['density'].plot.kde()"
   ]
  },
  {
   "cell_type": "code",
   "execution_count": null,
   "metadata": {},
   "outputs": [],
   "source": [
    "df['pH'].plot.kde()"
   ]
  },
  {
   "cell_type": "code",
   "execution_count": null,
   "metadata": {},
   "outputs": [],
   "source": [
    "df['sulphates'].plot.kde()"
   ]
  },
  {
   "cell_type": "code",
   "execution_count": null,
   "metadata": {},
   "outputs": [],
   "source": [
    "df['alcohol'].plot.kde()"
   ]
  },
  {
   "cell_type": "code",
   "execution_count": null,
   "metadata": {},
   "outputs": [],
   "source": [
    "df['quality'].plot.kde()"
   ]
  },
  {
   "cell_type": "code",
   "execution_count": null,
   "metadata": {},
   "outputs": [],
   "source": []
  },
  {
   "cell_type": "code",
   "execution_count": null,
   "metadata": {},
   "outputs": [],
   "source": [
    "f_d=df.describe()\n",
    "f_d\n",
    "\n",
    "#### 2. Find out the number of rows, mean, std deviation, min, Q1, Q2, Q3, max values for each variable. Document your observations to check if the outliers are present in the data set"
   ]
  },
  {
   "cell_type": "code",
   "execution_count": null,
   "metadata": {},
   "outputs": [],
   "source": [
    "fa = f_d['fixed acidity']\n",
    "print(fa)\n",
    "\n",
    "print()\n",
    "\n",
    "fa_q1 = fa.iloc[4]\n",
    "fa_q3 = fa.iloc[6]\n",
    "\n",
    "print(\"Fixed Acidity Q1 : \",fa_q1)\n",
    "print(\"Fixed Acidity Q3 : \",fa_q3)\n",
    "\n",
    "print()\n",
    "\n",
    "fa_iqr = fa_q3 - fa_q1\n",
    "print(\"Fixed Acidity IQR : \",fa_iqr)\n",
    "\n",
    "print()\n",
    "\n",
    "fa_out_l = fa_q1 - (1.5 * fa_iqr)\n",
    "print(\"Fixed Acidity Lower Outliers : \",fa_out_l)\n",
    "\n",
    "fa_out_u = fa_q3 + (1.5 * fa_iqr)\n",
    "print(\"Fixed Acidity Upper Outliers : \",fa_out_u)\n",
    "\n",
    "for i in fa:\n",
    "    if(i<fa_out_l or i>fa_out_u):\n",
    "        print(\"\\nOutliers Of Fixed Acidity\",i)"
   ]
  },
  {
   "cell_type": "code",
   "execution_count": null,
   "metadata": {},
   "outputs": [],
   "source": [
    "va = f_d['volatile acidity']\n",
    "print(va)\n",
    "\n",
    "print()\n",
    "\n",
    "va_q1 = va.iloc[4]\n",
    "va_q3 = va.iloc[6]\n",
    "\n",
    "print(\"volatile Acidity Q1 : \",va_q1)\n",
    "print(\"volatile Acidity Q3 : \",va_q3)\n",
    "\n",
    "print()\n",
    "\n",
    "va_iqr = va_q3 - va_q1\n",
    "print(\"volatile Acidity IQR : \",va_iqr)\n",
    "\n",
    "print()\n",
    "\n",
    "va_out_l = va_q1 - (1.5 * va_iqr)\n",
    "print(\"volatile Acidity Lower Outliers : \",va_out_l)\n",
    "\n",
    "va_out_u = va_q3 + (1.5 * va_iqr)\n",
    "print(\"volatile Acidity Upper Outliers : \",va_out_u)\n",
    "\n",
    "for i in va:\n",
    "    if(i<va_out_l or i>va_out_u):\n",
    "        print(\"\\nOutliers Of volatile Acidity\",i)"
   ]
  },
  {
   "cell_type": "code",
   "execution_count": null,
   "metadata": {},
   "outputs": [],
   "source": [
    "ca = f_d['citric acid']\n",
    "print(ca)\n",
    "\n",
    "print()\n",
    "\n",
    "ca_q1 = ca.iloc[4]\n",
    "ca_q3 = ca.iloc[6]\n",
    "\n",
    "print(\"citric acid Q1 : \",ca_q1)\n",
    "print(\"citric acid Q3 : \",ca_q3)\n",
    "\n",
    "print()\n",
    "\n",
    "ca_iqr = ca_q3 - ca_q1\n",
    "print(\"citric acid IQR : \",ca_iqr)\n",
    "\n",
    "print()\n",
    "\n",
    "ca_out_l = ca_q1 - (1.5 * ca_iqr)\n",
    "print(\"citric acid Lower Outliers : \",ca_out_l)\n",
    "\n",
    "ca_out_u = ca_q3 + (1.5 * ca_iqr)\n",
    "print(\"citric acid Upper Outliers : \",ca_out_u)\n",
    "\n",
    "for i in ca:\n",
    "    if(i<ca_out_l or i>ca_out_u):\n",
    "        print(\"\\nOutliers Of citric acid\",i)"
   ]
  },
  {
   "cell_type": "code",
   "execution_count": null,
   "metadata": {},
   "outputs": [],
   "source": [
    "rs = f_d['residual sugar']\n",
    "print(rs)\n",
    "\n",
    "print()\n",
    "\n",
    "rs_q1 = rs.iloc[4]\n",
    "rs_q3 = rs.iloc[6]\n",
    "\n",
    "print(\"residual sugar Q1 : \",rs_q1)\n",
    "print(\"residual sugar Q3 : \",rs_q3)\n",
    "\n",
    "print()\n",
    "\n",
    "rs_iqr = rs_q3 - rs_q1\n",
    "print(\"residual sugar IQR : \",rs_iqr)\n",
    "\n",
    "print()\n",
    "\n",
    "rs_out_l = rs_q1 - (1.5 * rs_iqr)\n",
    "print(\"residual sugar Lower Outliers : \",rs_out_l)\n",
    "\n",
    "rs_out_u = rs_q3 + (1.5 * rs_iqr)\n",
    "print(\"residual sugar Upper Outliers : \",rs_out_u)\n",
    "\n",
    "for i in rs:\n",
    "    if(i<rs_out_l or i>rs_out_u):\n",
    "        print(\"\\nOutliers Of residual sugar\",i)"
   ]
  },
  {
   "cell_type": "code",
   "execution_count": null,
   "metadata": {},
   "outputs": [],
   "source": [
    "c = f_d['chlorides']\n",
    "print(c)\n",
    "\n",
    "print()\n",
    "\n",
    "c_q1 = c.iloc[4]\n",
    "c_q3 = c.iloc[6]\n",
    "\n",
    "print(\"chlorides Q1 : \",c_q1)\n",
    "print(\"chlorides Q3 : \",c_q3)\n",
    "\n",
    "print()\n",
    "\n",
    "c_iqr = c_q3 - c_q1\n",
    "print(\"chlorides IQR : \",c_iqr)\n",
    "\n",
    "print()\n",
    "\n",
    "c_out_l = c_q1 - (1.5 * c_iqr)\n",
    "print(\"chlorides Lower Outliers : \",c_out_l)\n",
    "\n",
    "c_out_u = c_q3 + (1.5 *c_iqr)\n",
    "print(\"chlorides Upper Outliers : \",c_out_u)\n",
    "\n",
    "for i in c:\n",
    "    if(i<c_out_l or i>c_out_u):\n",
    "        print(\"\\nOutliers Of chlorides\",i)"
   ]
  },
  {
   "cell_type": "code",
   "execution_count": null,
   "metadata": {},
   "outputs": [],
   "source": [
    "fs = f_d['free sulfur dioxide']\n",
    "print(fs)\n",
    "\n",
    "print()\n",
    "\n",
    "fs_q1 = fs.iloc[4]\n",
    "fs_q3 = fs.iloc[6]\n",
    "\n",
    "print(\"free sulfur dioxide Q1 : \",fs_q1)\n",
    "print(\"free sulfur dioxide Q3 : \",fs_q3)\n",
    "\n",
    "print()\n",
    "\n",
    "fs_iqr = fs_q3 - fs_q1\n",
    "print(\"free sulfur dioxide IQR : \",fs_iqr)\n",
    "\n",
    "print()\n",
    "\n",
    "fs_out_l = fs_q1 - (1.5 * fs_iqr)\n",
    "print(\"free sulfur dioxide Lower Outliers : \",fs_out_l)\n",
    "\n",
    "fs_out_u = fs_q3 + (1.5 *fs_iqr)\n",
    "print(\"free sulfur dioxide Upper Outliers : \",fs_out_u)\n",
    "\n",
    "for i in fs:\n",
    "    if(i<fs_out_l or i>fs_out_u):\n",
    "        print(\"\\nOutliers Of free sulfur dioxide\",i)"
   ]
  },
  {
   "cell_type": "code",
   "execution_count": null,
   "metadata": {},
   "outputs": [],
   "source": [
    "ts = f_d['total sulfur dioxide']\n",
    "print(ts)\n",
    "\n",
    "print()\n",
    "\n",
    "ts_q1 = ts.iloc[4]\n",
    "ts_q3 = ts.iloc[6]\n",
    "\n",
    "print(\"total sulfur dioxide Q1 : \",ts_q1)\n",
    "print(\"total sulfur dioxide Q3 : \",ts_q3)\n",
    "\n",
    "print()\n",
    "\n",
    "ts_iqr = ts_q3 - ts_q1\n",
    "print(\"total sulfur dioxide IQR : \",ts_iqr)\n",
    "\n",
    "print()\n",
    "\n",
    "ts_out_l = ts_q1 - (1.5 * ts_iqr)\n",
    "print(\"total sulfur dioxide Lower Outliers : \",ts_out_l)\n",
    "\n",
    "ts_out_u = ts_q3 + (1.5 *ts_iqr)\n",
    "print(\"total sulfur dioxide Upper Outliers : \",ts_out_u)\n",
    "\n",
    "for i in ts:\n",
    "    if(i<ts_out_l or i>ts_out_u):\n",
    "        print(\"\\nOutliers Of total sulfur dioxide\",i)"
   ]
  },
  {
   "cell_type": "code",
   "execution_count": null,
   "metadata": {},
   "outputs": [],
   "source": [
    "d = f_d['density']\n",
    "print(d)\n",
    "\n",
    "print()\n",
    "\n",
    "d_q1 = d.iloc[4]\n",
    "d_q3 = d.iloc[6]\n",
    "\n",
    "print(\"total sulfur dioxide Q1 : \",d_q1)\n",
    "print(\"total sulfur dioxide Q3 : \",d_q3)\n",
    "\n",
    "print()\n",
    "d_iqr = d_q3 - d_q1\n",
    "print(\"total sulfur dioxide IQR : \",d_iqr)\n",
    "\n",
    "print()\n",
    "\n",
    "d_out_l = d_q1 - (1.5 * d_iqr)\n",
    "print(\"total sulfur dioxide Lower Outliers : \",d_out_l)\n",
    "\n",
    "d_out_u = d_q3 + (1.5 *d_iqr)\n",
    "print(\"total sulfur dioxide Upper Outliers : \",d_out_u)\n",
    "\n",
    "for i in d:\n",
    "    if(i<d_out_l or i>d_out_u):\n",
    "        print(\"\\nOutliers Of total sulfur dioxide\",i)"
   ]
  },
  {
   "cell_type": "code",
   "execution_count": null,
   "metadata": {},
   "outputs": [],
   "source": [
    "d = f_d['density']\n",
    "print(d)\n",
    "\n",
    "print()\n",
    "\n",
    "d_q1 = d.iloc[4]\n",
    "d_q3 = d.iloc[6]\n",
    "\n",
    "print(\"density Q1 : \",d_q1)\n",
    "print(\"density Q3 : \",d_q3)\n",
    "\n",
    "print()\n",
    "d_iqr = d_q3 - d_q1\n",
    "print(\"density IQR : \",d_iqr)\n",
    "\n",
    "print()\n",
    "\n",
    "d_out_l = d_q1 - (1.5 * d_iqr)\n",
    "print(\"density Lower Outliers : \",d_out_l)\n",
    "\n",
    "d_out_u = d_q3 + (1.5 *d_iqr)\n",
    "print(\"density Upper Outliers : \",d_out_u)\n",
    "\n",
    "for i in d:\n",
    "    if(i<d_out_l or i>d_out_u):\n",
    "        print(\"\\nOutliers Of density\",i)"
   ]
  },
  {
   "cell_type": "code",
   "execution_count": null,
   "metadata": {},
   "outputs": [],
   "source": [
    "ph = f_d['pH']\n",
    "print(ph)\n",
    "\n",
    "print()\n",
    "\n",
    "ph_q1 = ph.iloc[4]\n",
    "ph_q3 = ph.iloc[6]\n",
    "\n",
    "print(\"density Q1 : \",ph_q1)\n",
    "print(\"density Q3 : \",ph_q3)\n",
    "\n",
    "print()\n",
    "ph_iqr = ph_q3 - ph_q1\n",
    "print(\"density IQR : \",ph_iqr)\n",
    "\n",
    "print()\n",
    "\n",
    "ph_out_l = ph_q1 - (1.5 * ph_iqr)\n",
    "print(\"density Lower Outliers : \",ph_out_l)\n",
    "\n",
    "ph_out_u = ph_q3 + (1.5 *ph_iqr)\n",
    "print(\"density Upper Outliers : \",ph_out_u)\n",
    "\n",
    "for i in ph:\n",
    "    if(i<ph_out_l or i>ph_out_u):\n",
    "        print(\"\\nOutliers Of density\",i)"
   ]
  },
  {
   "cell_type": "code",
   "execution_count": null,
   "metadata": {},
   "outputs": [],
   "source": [
    "s = f_d['sulphates']\n",
    "print(s)\n",
    "\n",
    "print()\n",
    "\n",
    "s_q1 = d.iloc[4]\n",
    "s_q3 = d.iloc[6]\n",
    "\n",
    "print(\"sulphate's Q1 : \",s_q1)\n",
    "print(\"sulphate's Q3 : \",s_q3)\n",
    "\n",
    "print()\n",
    "s_iqr = s_q3 - s_q1\n",
    "print(\"sulphate's IQR : \",s_iqr)\n",
    "\n",
    "print()\n",
    "\n",
    "s_out_l = s_q1 - (1.5 * s_iqr)\n",
    "print(\"sulphate's Lower Outliers : \",s_out_l)\n",
    "\n",
    "s_out_u = s_q3 + (1.5 *s_iqr)\n",
    "print(\"sulphate's Upper Outliers : \",d_out_u)\n",
    "\n",
    "for i in d:\n",
    "    if(i<s_out_l or i>s_out_u):\n",
    "        print(\"\\nOutliers Of sulphates\",i)"
   ]
  },
  {
   "cell_type": "code",
   "execution_count": null,
   "metadata": {},
   "outputs": [],
   "source": [
    "a = f_d['alcohol']\n",
    "print(a)\n",
    "\n",
    "print()\n",
    "\n",
    "a_q1 = d.iloc[4]\n",
    "a_q3 = d.iloc[6]\n",
    "\n",
    "print(\"alcohol Q1 : \",a_q1)\n",
    "print(\"alcohol Q3 : \",a_q3)\n",
    "\n",
    "print()\n",
    "a_iqr = a_q3 - s_q1\n",
    "print(\"alcohol IQR : \",a_iqr)\n",
    "\n",
    "print()\n",
    "\n",
    "a_out_l = a_q1 - (1.5 * a_iqr)\n",
    "print(\"alcohol Lower Outliers : \",a_out_l)\n",
    "\n",
    "a_out_u = a_q3 + (1.5 *a_iqr)\n",
    "print(\"alcohol Upper Outliers : \",a_out_u)\n",
    "\n",
    "for i in d:\n",
    "    if(i<a_out_l or i>a_out_u):\n",
    "        print(\"\\nOutliers Of alcohol\",i)"
   ]
  },
  {
   "cell_type": "code",
   "execution_count": null,
   "metadata": {},
   "outputs": [],
   "source": [
    "a = f_d['quality']\n",
    "print(a)\n",
    "\n",
    "print()\n",
    "\n",
    "a_q1 = d.iloc[4]\n",
    "a_q3 = d.iloc[6]\n",
    "\n",
    "print(\"quality Q1 : \",a_q1)\n",
    "print(\"quality Q3 : \",a_q3)\n",
    "\n",
    "print()\n",
    "a_iqr = a_q3 - s_q1\n",
    "print(\"quality IQR : \",a_iqr)\n",
    "\n",
    "print()\n",
    "\n",
    "a_out_l = a_q1 - (1.5 * a_iqr)\n",
    "print(\"quality Lower Outliers : \",a_out_l)\n",
    "\n",
    "a_out_u = a_q3 + (1.5 *a_iqr)\n",
    "print(\"quality Upper Outliers : \",a_out_u)\n",
    "\n",
    "for i in d:\n",
    "    if(i<a_out_l or i>a_out_u):\n",
    "        print(\"\\nOutliers Of quality\",i)"
   ]
  },
  {
   "cell_type": "markdown",
   "metadata": {},
   "source": [
    "#### 4. Create a frequency distribution table and bar chart for the output variable\n"
   ]
  },
  {
   "cell_type": "code",
   "execution_count": null,
   "metadata": {},
   "outputs": [],
   "source": [
    "sns.barplot(x=df['fixed acidity'])\n",
    "pd.crosstab(index=df['fixed acidity'],columns='total')"
   ]
  },
  {
   "cell_type": "code",
   "execution_count": null,
   "metadata": {},
   "outputs": [],
   "source": [
    "sns.barplot(x=df['volatile acidity'])\n",
    "pd.crosstab(index=df['volatile acidity'],columns='total')"
   ]
  },
  {
   "cell_type": "code",
   "execution_count": null,
   "metadata": {},
   "outputs": [],
   "source": [
    "sns.barplot(x=df['citric acid'])\n",
    "pd.crosstab(index=df['citric acid'],columns='total')"
   ]
  },
  {
   "cell_type": "code",
   "execution_count": null,
   "metadata": {},
   "outputs": [],
   "source": [
    "sns.barplot(x=df['residual sugar'])\n",
    "pd.crosstab(index=df['residual sugar'],columns='total')"
   ]
  },
  {
   "cell_type": "code",
   "execution_count": null,
   "metadata": {},
   "outputs": [],
   "source": [
    "sns.barplot(x=df['residual sugar'])\n",
    "pd.crosstab(index=df['residual sugar'],columns='total')"
   ]
  },
  {
   "cell_type": "code",
   "execution_count": null,
   "metadata": {},
   "outputs": [],
   "source": [
    "sns.barplot(x=df['chlorides'])\n",
    "pd.crosstab(index=df['chlorides'],columns='total')"
   ]
  },
  {
   "cell_type": "code",
   "execution_count": null,
   "metadata": {},
   "outputs": [],
   "source": [
    "sns.barplot(x=df['free sulfur dioxide'])\n",
    "pd.crosstab(index=df['free sulfur dioxide'],columns='total')"
   ]
  },
  {
   "cell_type": "code",
   "execution_count": null,
   "metadata": {},
   "outputs": [],
   "source": [
    "sns.barplot(x=df['total sulfur dioxide'])\n",
    "pd.crosstab(index=df['total sulfur dioxide'],columns='total')"
   ]
  },
  {
   "cell_type": "code",
   "execution_count": null,
   "metadata": {},
   "outputs": [],
   "source": [
    "sns.barplot(x=df['density'])\n",
    "pd.crosstab(index=df['density'],columns='total')"
   ]
  },
  {
   "cell_type": "code",
   "execution_count": null,
   "metadata": {},
   "outputs": [],
   "source": [
    "sns.barplot(x=df['pH'])\n",
    "pd.crosstab(index=df['pH'],columns='total')"
   ]
  },
  {
   "cell_type": "code",
   "execution_count": null,
   "metadata": {},
   "outputs": [],
   "source": [
    "sns.barplot(x=df['sulphates'])\n",
    "pd.crosstab(index=df['sulphates'],columns='total')"
   ]
  },
  {
   "cell_type": "code",
   "execution_count": null,
   "metadata": {},
   "outputs": [],
   "source": [
    "sns.barplot(x=df['alcohol'])\n",
    "pd.crosstab(index=df['alcohol'],columns='total')"
   ]
  },
  {
   "cell_type": "code",
   "execution_count": null,
   "metadata": {},
   "outputs": [],
   "source": [
    "sns.barplot(x=df['quality'])\n",
    "pd.crosstab(index=df['quality'],columns='total')"
   ]
  },
  {
   "cell_type": "markdown",
   "metadata": {},
   "source": [
    "#### 5. Draw box plot for each variable and identify the IQR and outliers"
   ]
  },
  {
   "cell_type": "code",
   "execution_count": null,
   "metadata": {},
   "outputs": [],
   "source": [
    "sns.set(style=\"whitegrid\")\n",
    "sns.boxplot(x=df['fixed acidity'],data=df)"
   ]
  },
  {
   "cell_type": "code",
   "execution_count": null,
   "metadata": {},
   "outputs": [],
   "source": [
    "sns.boxplot(x=df['volatile acidity'],data=df)"
   ]
  },
  {
   "cell_type": "code",
   "execution_count": null,
   "metadata": {},
   "outputs": [],
   "source": [
    "sns.boxplot(x=df['citric acid'],data=df)"
   ]
  },
  {
   "cell_type": "code",
   "execution_count": null,
   "metadata": {},
   "outputs": [],
   "source": [
    "sns.boxplot(x=df['residual sugar'],data=df)"
   ]
  },
  {
   "cell_type": "code",
   "execution_count": null,
   "metadata": {},
   "outputs": [],
   "source": [
    "sns.boxplot(x=df['chlorides'],data=df)"
   ]
  },
  {
   "cell_type": "code",
   "execution_count": null,
   "metadata": {},
   "outputs": [],
   "source": [
    "sns.boxplot(x=df['free sulfur dioxide'],data=df)\n",
    "    "
   ]
  },
  {
   "cell_type": "code",
   "execution_count": null,
   "metadata": {},
   "outputs": [],
   "source": [
    "sns.boxplot(x=df['total sulfur dioxide'],data=df)"
   ]
  },
  {
   "cell_type": "code",
   "execution_count": null,
   "metadata": {},
   "outputs": [],
   "source": [
    "sns.boxplot(x=df['density'],data=df)"
   ]
  },
  {
   "cell_type": "code",
   "execution_count": null,
   "metadata": {},
   "outputs": [],
   "source": [
    "sns.boxplot(x=df['pH'],data=df)"
   ]
  },
  {
   "cell_type": "code",
   "execution_count": null,
   "metadata": {},
   "outputs": [],
   "source": [
    "sns.boxplot(x=df['sulphates'],data=df)"
   ]
  },
  {
   "cell_type": "code",
   "execution_count": null,
   "metadata": {},
   "outputs": [],
   "source": [
    "sns.boxplot(x=df['alcohol'],data=df)"
   ]
  },
  {
   "cell_type": "code",
   "execution_count": null,
   "metadata": {},
   "outputs": [],
   "source": [
    "sns.boxplot(x=df['quality'],data=df)"
   ]
  },
  {
   "cell_type": "markdown",
   "metadata": {},
   "source": [
    "## Q.3 Multivariate Analysis"
   ]
  },
  {
   "cell_type": "markdown",
   "metadata": {},
   "source": [
    "### Draw the correlation matrix and identify the variables that are correlated to each other."
   ]
  },
  {
   "cell_type": "code",
   "execution_count": null,
   "metadata": {},
   "outputs": [],
   "source": [
    "f=df.corr()\n",
    "f\n",
    "f.style.background_gradient(cmap='coolwarm')"
   ]
  },
  {
   "cell_type": "code",
   "execution_count": null,
   "metadata": {},
   "outputs": [],
   "source": []
  }
 ],
 "metadata": {
  "kernelspec": {
   "display_name": "Python 3",
   "language": "python",
   "name": "python3"
  },
  "language_info": {
   "codemirror_mode": {
    "name": "ipython",
    "version": 3
   },
   "file_extension": ".py",
   "mimetype": "text/x-python",
   "name": "python",
   "nbconvert_exporter": "python",
   "pygments_lexer": "ipython3",
   "version": "3.8.3"
  }
 },
 "nbformat": 4,
 "nbformat_minor": 4
}
