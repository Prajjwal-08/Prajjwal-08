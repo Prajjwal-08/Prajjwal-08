{
 "cells": [
  {
   "cell_type": "markdown",
   "metadata": {},
   "source": [
    "# Part A"
   ]
  },
  {
   "cell_type": "code",
   "execution_count": 6,
   "metadata": {},
   "outputs": [],
   "source": [
    "\n",
    "\n",
    "import pandas as pd\n",
    "import numpy as np\n",
    "import matplotlib.pyplot as plt\n",
    "from scipy.stats import t\n",
    "import seaborn as sns\n",
    "\n"
   ]
  },
  {
   "cell_type": "code",
   "execution_count": 8,
   "metadata": {},
   "outputs": [],
   "source": [
    ">>> tax=pd.read_csv('property_tax.csv')"
   ]
  },
  {
   "cell_type": "code",
   "execution_count": 15,
   "metadata": {},
   "outputs": [
    {
     "data": {
      "text/plain": [
       "(20409, 2820213)"
      ]
     },
     "execution_count": 15,
     "metadata": {},
     "output_type": "execute_result"
    }
   ],
   "source": [
    "'''Step 2 Describe the Data\n",
    "\n",
    "Min and Max Values of the property tax are'''\n",
    "\n",
    "m0=tax['Total Lease Cost'].min()\n",
    "\n",
    "m1=tax['Total Lease Cost'].max()\n",
    "m0,m1\n",
    "\n",
    "\n",
    "\n",
    "\n",
    "\n"
   ]
  },
  {
   "cell_type": "code",
   "execution_count": 9,
   "metadata": {},
   "outputs": [
    {
     "data": {
      "image/png": "[encoded data removed]",
      "text/plain": [
       "<Figure size 432x288 with 2 Axes>"
      ]
     },
     "metadata": {
      "needs_background": "light"
     },
     "output_type": "display_data"
    }
   ],
   "source": [
    ">>> #Plot the Box Plot and Histogram\n",
    ">>> f, (ax_box, ax_hist) = plt.subplots(2, sharex=True, gridspec_kw={\"height_ratios\": (.15, .85)})\n",
    ">>> sns.boxplot(tax[\"Total Lease Cost\"],ax=ax_box).set(title='Average Cost of Lease')\n",
    ">>> sns.distplot(tax[\"Total Lease Cost\"],ax=ax_hist)\n",
    ">>> plt.show()"
   ]
  },
  {
   "cell_type": "code",
   "execution_count": 11,
   "metadata": {},
   "outputs": [
    {
     "data": {
      "text/plain": [
       "(478603.4798206278,\n",
       " 535342.5637301835,\n",
       " 223,\n",
       " 1.953472329294872,\n",
       " 4.137508828414167)"
      ]
     },
     "execution_count": 11,
     "metadata": {},
     "output_type": "execute_result"
    }
   ],
   "source": [
    ">>> mean = tax['Total Lease Cost'].mean()\n",
    ">>> sdev = tax['Total Lease Cost'].std()\n",
    ">>> n = tax['Total Lease Cost'].count()\n",
    ">>> K3 = tax['Total Lease Cost'].skew()\n",
    ">>> K4 = tax['Total Lease Cost'].kurtosis()\n",
    ">>> mean, sdev, n, K3, K4\n"
   ]
  },
  {
   "cell_type": "code",
   "execution_count": 12,
   "metadata": {},
   "outputs": [
    {
     "data": {
      "text/plain": [
       "35849.18962885723"
      ]
     },
     "execution_count": 12,
     "metadata": {},
     "output_type": "execute_result"
    }
   ],
   "source": [
    ">>> se= sdev/np.sqrt(n)\n",
    ">>> se"
   ]
  },
  {
   "cell_type": "code",
   "execution_count": 14,
   "metadata": {},
   "outputs": [
    {
     "data": {
      "text/plain": [
       "'Both Conditoins Met Succesfully'"
      ]
     },
     "execution_count": 14,
     "metadata": {},
     "output_type": "execute_result"
    }
   ],
   "source": [
    "#Step 3 Check the Simple Random Condition and sample size condition\n",
    "'Both Conditoins Met Succesfully'\n"
   ]
  },
  {
   "cell_type": "code",
   "execution_count": 17,
   "metadata": {},
   "outputs": [
    {
     "data": {
      "text/plain": [
       "1.9707073953190277"
      ]
     },
     "execution_count": 17,
     "metadata": {},
     "output_type": "execute_result"
    }
   ],
   "source": [
    "#Step 4 Calculate T's Value\n",
    ">>> tval = t.ppf(1.95/2.,n-1)\n",
    ">>> tval"
   ]
  },
  {
   "cell_type": "code",
   "execution_count": 27,
   "metadata": {},
   "outputs": [
    {
     "data": {
      "text/plain": [
       "(549251.742938411, 407955.21670284466)"
      ]
     },
     "execution_count": 27,
     "metadata": {},
     "output_type": "execute_result"
    }
   ],
   "source": [
    ">>> #Step 5 Calculate 95% CI\n",
    "\n",
    ">>> a=mean + se*tval\n",
    "\n",
    ">>> b=mean - se*tval\n",
    "a,b"
   ]
  },
  {
   "cell_type": "code",
   "execution_count": 32,
   "metadata": {},
   "outputs": [
    {
     "name": "stdout",
     "output_type": "stream",
     "text": [
      "1%  tax for each business will be between 549251.742938411 to 407955.21670284466\n"
     ]
    },
    {
     "data": {
      "text/plain": [
       "'1%  tax for 4500 business will be between 24716328.432228494 to 18357984.751628008'"
      ]
     },
     "execution_count": 32,
     "metadata": {},
     "output_type": "execute_result"
    }
   ],
   "source": [
    ">>> #Step 6 Calculate the tax that will be collected\n",
    "\n",
    ">>> print(f'1%  tax for each business will be between {a} to {b}')\n",
    ">>> m1=(mean + se*tval)*0.01*4500\n",
    "\n",
    ">>> m2=(mean - se*tval)*0.01*4500\n",
    "f'1%  tax for 4500 business will be between {m1} to {m2}'\n"
   ]
  },
  {
   "cell_type": "code",
   "execution_count": 33,
   "metadata": {},
   "outputs": [
    {
     "name": "stdout",
     "output_type": "stream",
     "text": [
      "We are confident that the average cost of the lease is between 549251.742938411 to 407955.21670284466\n",
      "On average, we can be 95% confident that the tax will be between 549251.742938411 to 407955.21670284466 per business\n"
     ]
    },
    {
     "data": {
      "text/plain": [
       "'We can be 95% confident that the total tax will be between 24716328.432228494 to 18357984.751628008'"
      ]
     },
     "execution_count": 33,
     "metadata": {},
     "output_type": "execute_result"
    }
   ],
   "source": [
    "#Step 7 Summarize the results\n",
    "\n",
    "print(f'We are confident that the average cost of the lease is between {a} to {b}') \n",
    "print(f'On average, we can be 95% confident that the tax will be between {a} to {b} per business') \n",
    "\n",
    "f'We can be 95% confident that the total tax will be between {m1} to {m2}'"
   ]
  },
  {
   "cell_type": "code",
   "execution_count": null,
   "metadata": {},
   "outputs": [],
   "source": []
  }
 ],
 "metadata": {
  "kernelspec": {
   "display_name": "Python 3",
   "language": "python",
   "name": "python3"
  },
  "language_info": {
   "codemirror_mode": {
    "name": "ipython",
    "version": 3
   },
   "file_extension": ".py",
   "mimetype": "text/x-python",
   "name": "python",
   "nbconvert_exporter": "python",
   "pygments_lexer": "ipython3",
   "version": "3.8.3"
  }
 },
 "nbformat": 4,
 "nbformat_minor": 4
}
